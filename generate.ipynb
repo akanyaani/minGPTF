{
 "cells": [
  {
   "cell_type": "code",
   "execution_count": 1,
   "id": "123da3f2",
   "metadata": {},
   "outputs": [],
   "source": [
    "%load_ext autoreload\n",
    "%autoreload 2"
   ]
  },
  {
   "cell_type": "code",
   "execution_count": 2,
   "id": "852c4830",
   "metadata": {},
   "outputs": [
    {
     "name": "stderr",
     "output_type": "stream",
     "text": [
      "2023-01-09 21:27:43.990802: I tensorflow/core/platform/cpu_feature_guard.cc:193] This TensorFlow binary is optimized with oneAPI Deep Neural Network Library (oneDNN) to use the following CPU instructions in performance-critical operations:  AVX2 FMA\n",
      "To enable them in other operations, rebuild TensorFlow with the appropriate compiler flags.\n",
      "/Users/abhaykumar/opt/anaconda3/envs/mingpt/lib/python3.8/site-packages/tqdm/auto.py:22: TqdmWarning: IProgress not found. Please update jupyter and ipywidgets. See https://ipywidgets.readthedocs.io/en/stable/user_install.html\n",
      "  from .autonotebook import tqdm as notebook_tqdm\n"
     ]
    }
   ],
   "source": [
    "from mingptf.model import GPT\n",
    "import numpy as np\n",
    "import tensorflow as tf\n",
    "from mingptf.bpe import BPETokenizer\n",
    "from transformers import GPT2Tokenizer, GPT2LMHeadModel"
   ]
  },
  {
   "cell_type": "code",
   "execution_count": 18,
   "id": "29069ad3",
   "metadata": {},
   "outputs": [],
   "source": [
    "use_mingpt = True # use minGPT or huggingface/transformers model?\n",
    "model_type = 'gpt2'"
   ]
  },
  {
   "cell_type": "code",
   "execution_count": 4,
   "id": "68b583e7",
   "metadata": {},
   "outputs": [
    {
     "name": "stderr",
     "output_type": "stream",
     "text": [
      "2023-01-09 21:27:52.104309: I tensorflow/core/platform/cpu_feature_guard.cc:193] This TensorFlow binary is optimized with oneAPI Deep Neural Network Library (oneDNN) to use the following CPU instructions in performance-critical operations:  AVX2 FMA\n",
      "To enable them in other operations, rebuild TensorFlow with the appropriate compiler flags.\n"
     ]
    },
    {
     "name": "stdout",
     "output_type": "stream",
     "text": [
      "number of parameters: 124.44M\n"
     ]
    },
    {
     "name": "stderr",
     "output_type": "stream",
     "text": [
      "All model checkpoint layers were used when initializing TFGPT2LMHeadModel.\n",
      "\n",
      "All the layers of TFGPT2LMHeadModel were initialized from the model checkpoint at gpt2.\n",
      "If your task is similar to the task the model of the checkpoint was trained on, you can already use TFGPT2LMHeadModel for predictions without further training.\n"
     ]
    }
   ],
   "source": [
    "if use_mingpt:\n",
    "    model = GPT.from_pretrained(model_type)\n",
    "else:\n",
    "    model = GPT2LMHeadModel.from_pretrained(model_type)\n",
    "    model.config.pad_token_id = model.config.eos_token_id # suppress a warning\n"
   ]
  },
  {
   "cell_type": "code",
   "execution_count": 21,
   "id": "849e631f",
   "metadata": {},
   "outputs": [],
   "source": [
    "tokenizer = BPETokenizer()\n",
    "hf_tokenizer = GPT2Tokenizer.from_pretrained(model_type)\n",
    "\n",
    "def generate(prompt='', num_samples=10, no_gen_tokens=20, no_samples=5, temperature=1, top_k=8):\n",
    "        \n",
    "    # tokenize the input prompt into integer input sequence\n",
    "    if use_mingpt:\n",
    "        if prompt == '':\n",
    "            # to create unconditional samples...\n",
    "            # manually create a tensor with only the special <|endoftext|> token\n",
    "            # similar to what openai's code does here https://github.com/openai/gpt-2/blob/master/src/generate_unconditional_samples.py\n",
    "            x = [[tokenizer.encoder.encoder['<|endoftext|>']]]\n",
    "        else:\n",
    "            x = tokenizer(prompt)\n",
    "    else:\n",
    "        if prompt == '': \n",
    "            # to create unconditional samples...\n",
    "            # huggingface/transformers tokenizer special cases these strings\n",
    "            prompt = '<|endoftext|>'\n",
    "        encoded_input = hf_tokenizer(prompt, return_tensors='tf')\n",
    "        x = encoded_input['input_ids']\n",
    "    \n",
    "    # we'll process all desired num_samples in a batch, so expand out the batch dim\n",
    "\n",
    "    # forward the model `steps` times to get samples, in a batch\n",
    "    samples = []\n",
    "    for _ in range(no_samples):\n",
    "        y = model.generate(x, max_new_tokens=no_gen_tokens, \n",
    "                           temperature=temperature,\n",
    "                           top_k=top_k)\n",
    "        samples.append(tokenizer.decode(y.numpy()))\n",
    "    \n",
    "    return samples\n",
    "        "
   ]
  },
  {
   "cell_type": "code",
   "execution_count": 22,
   "id": "59e7ce04",
   "metadata": {},
   "outputs": [
    {
     "name": "stdout",
     "output_type": "stream",
     "text": [
      "------------------------------------------------------------\n",
      "Elon Musk is a former president of the National Association of Realtors and CEO of SpaceX's parent company, Elon Musk\n",
      "------------------------------------------------------------\n",
      "Elon Musk is a big believer in the power of the blockchain. He has been one of the most vocal in pushing for\n",
      "------------------------------------------------------------\n",
      "Elon Musk is a professor of computer science and artificial intelligence at Harvard University and a member of the National Academy of Sciences Advisory\n",
      "------------------------------------------------------------\n",
      "Elon Musk is a former chief operating officer for Microsoft. He is the co-director of Microsoft Research, who has been\n",
      "------------------------------------------------------------\n",
      "Elon Musk is a member of Elon Musk's team and is the chief executive of SolarCity, which owns Tesla Motors Co\n"
     ]
    }
   ],
   "source": [
    "gen = generate(prompt='Elon Musk is a', \n",
    "         no_gen_tokens=20,\n",
    "         no_samples=5,\n",
    "         temperature=1.2, \n",
    "         top_k=8)\n",
    "\n",
    "for generated_seq in gen:\n",
    "    print('-'*60)\n",
    "    print(generated_seq)"
   ]
  },
  {
   "cell_type": "code",
   "execution_count": null,
   "id": "2457fe26",
   "metadata": {},
   "outputs": [],
   "source": []
  }
 ],
 "metadata": {
  "kernelspec": {
   "display_name": "mingpt",
   "language": "python",
   "name": "mingpt"
  },
  "language_info": {
   "codemirror_mode": {
    "name": "ipython",
    "version": 3
   },
   "file_extension": ".py",
   "mimetype": "text/x-python",
   "name": "python",
   "nbconvert_exporter": "python",
   "pygments_lexer": "ipython3",
   "version": "3.8.0"
  }
 },
 "nbformat": 4,
 "nbformat_minor": 5
}
